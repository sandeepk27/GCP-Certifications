{
 "cells": [
  {
   "cell_type": "code",
   "execution_count": 1,
   "id": "e79d42e5-3002-4036-8af5-12c7cc92693a",
   "metadata": {
    "tags": []
   },
   "outputs": [
    {
     "name": "stdout",
     "output_type": "stream",
     "text": [
      "\u001b[33m  WARNING: The script tb-gcp-uploader is installed in '/home/jupyter/.local/bin' which is not on PATH.\n",
      "  Consider adding this directory to PATH or, if you prefer to suppress this warning, use --no-warn-script-location.\u001b[0m\u001b[33m\n",
      "\u001b[0m"
     ]
    }
   ],
   "source": [
    "! pip3 install -q --upgrade --user google-cloud-aiplatform==1.60.0"
   ]
  },
  {
   "cell_type": "code",
   "execution_count": 2,
   "id": "1491c262-c7d7-42ce-b610-0ce9f2bb50c5",
   "metadata": {
    "tags": []
   },
   "outputs": [
    {
     "data": {
      "text/plain": [
       "{'status': 'ok', 'restart': True}"
      ]
     },
     "execution_count": 2,
     "metadata": {},
     "output_type": "execute_result"
    }
   ],
   "source": [
    "# Restart kernel after installs so that your environment can access the new packages\n",
    "import IPython\n",
    "\n",
    "app = IPython.Application.instance()\n",
    "app.kernel.do_shutdown(True)"
   ]
  },
  {
   "cell_type": "code",
   "execution_count": 1,
   "id": "9b386ee2-2260-4eda-b102-122a6353b582",
   "metadata": {
    "tags": []
   },
   "outputs": [
    {
     "name": "stdout",
     "output_type": "stream",
     "text": [
      "qwiklabs-gcp-01-ecd5ad280697\n"
     ]
    }
   ],
   "source": [
    "import vertexai\n",
    "\n",
    "PROJECT_ID = ! gcloud config get-value project\n",
    "PROJECT_ID = PROJECT_ID[0]\n",
    "LOCATION = \"us-central1\" # @param {type:\"string\"}\n",
    "\n",
    "print(PROJECT_ID)\n",
    "\n",
    "vertexai.init(project=PROJECT_ID, location=LOCATION)"
   ]
  },
  {
   "cell_type": "code",
   "execution_count": 2,
   "id": "04766f66-5a03-4e3f-8d5c-b6139d22d55f",
   "metadata": {
    "tags": []
   },
   "outputs": [],
   "source": [
    "import requests\n",
    "from vertexai.generative_models import (\n",
    "    Content,\n",
    "    FunctionDeclaration,\n",
    "    GenerationConfig,\n",
    "    GenerativeModel,\n",
    "    Part,\n",
    "    Tool,\n",
    ")"
   ]
  },
  {
   "cell_type": "code",
   "execution_count": 11,
   "id": "4052636d-1f96-406f-b0c4-32d6bd294c2a",
   "metadata": {
    "tags": []
   },
   "outputs": [],
   "source": [
    "def reverse(string):\n",
    "    print(\"Calling reverse function\")\n",
    "    print(string)\n",
    "    return string[::-1]\n",
    "\n",
    "def remove_white_spaces(string):\n",
    "    print(\"Calling remove_white_spaces function\")\n",
    "    return string.replace(\" \",\"\")\n"
   ]
  },
  {
   "cell_type": "code",
   "execution_count": 14,
   "id": "1f2c8956-45a0-48d7-a120-141f5e3da06c",
   "metadata": {
    "tags": []
   },
   "outputs": [],
   "source": [
    "def handle_response(response):\n",
    "\n",
    "    # If there is a function call then invoke it\n",
    "    # Otherwise print the response.\n",
    "    if response.candidates[0].function_calls:\n",
    "        function_call = response.candidates[0].function_calls[0]\n",
    "        print(function_call)\n",
    "\n",
    "    else:\n",
    "        print(response.text)\n",
    "        return\n",
    "    \n",
    "    if function_call.name == \"reverse\":\n",
    "        string_to_reverse = function_call.args[\"string\"]\n",
    "        print(string_to_reverse)\n",
    "        reversed_string = reverse(string_to_reverse)\n",
    "        res = chat.send_message(reversed_string)\n",
    "        \n",
    "        handle_response(res)\n",
    "        # Extract the arguments to use in your function\n",
    "        # Call your function\n",
    "        # Send the result back to the chat session with the model\n",
    "        # Recursive call\n",
    "    \n",
    "    elif function_call.name == \"remove_white_spaces\":\n",
    "        string_to_clean = function_call.args[\"string\"]\n",
    "        cleaned_string = remove_white_spaces(string_to_clean)\n",
    "        res = chat.send_message(cleaned_string)\n",
    "        handle_response(res) \n",
    "    # the function_call requests your remove_white_spaces function\n",
    "        # Extract the arguments to use in your function\n",
    "        # Call your function\n",
    "        # Send the result back to the chat session with the model\n",
    "        # Make a recursive call of this handler function\n",
    "    \n",
    "    else:\n",
    "        # You shouldn't end up here\n",
    "        print(response.text)\n"
   ]
  },
  {
   "cell_type": "code",
   "execution_count": 15,
   "id": "7a93a51c-ee15-4a29-9561-ee50818be6d1",
   "metadata": {
    "tags": []
   },
   "outputs": [],
   "source": [
    "reverse_func = FunctionDeclaration(\n",
    "    name = \"reverse\",\n",
    "    parameters={\n",
    "        \"type\": \"object\",\n",
    "        \"properties\": {\n",
    "            \"string\": {\n",
    "                \"type\": \"string\",\n",
    "                \"description\": \"string parameter\",\n",
    "            }\n",
    "        },\n",
    "    },\n",
    "    description = \"Reverse a string\",\n",
    ")\n",
    "\n",
    "remove_white_spaces_func = FunctionDeclaration(\n",
    "    name = \"remove_white_spaces\",\n",
    "    parameters={\n",
    "        \"type\": \"object\",\n",
    "        \"properties\": {\n",
    "            \"string\": {\n",
    "                \"type\": \"string\",\n",
    "                \"description\": \"string parameter\",\n",
    "            }\n",
    "        },\n",
    "    },\n",
    "    description = \"Remove white spaces\",\n",
    ")"
   ]
  },
  {
   "cell_type": "code",
   "execution_count": 16,
   "id": "78807439-9c1f-4d5b-9f75-8bfb6b5e6315",
   "metadata": {
    "tags": []
   },
   "outputs": [],
   "source": [
    "tool = Tool(\n",
    "    function_declarations=[\n",
    "        reverse_func,\n",
    "        remove_white_spaces_func,\n",
    "    ]\n",
    ")"
   ]
  },
  {
   "cell_type": "code",
   "execution_count": 17,
   "id": "95c0149d-384e-4be4-a02e-e6bea52be7a5",
   "metadata": {
    "tags": []
   },
   "outputs": [],
   "source": [
    "system_instruction = \"\"\"\n",
    "    - Fulfill the user's instructions.\n",
    "    - If asked to reverse a string or remove whitespace, call the provided functions.\n",
    "    - You may call one function after the other if needed.\n",
    "    - Repeat the result to the user.\n",
    "\"\"\"\n",
    "\n",
    "\n",
    "model = GenerativeModel(\n",
    "    model_name=\"gemini-1.5-pro-001\",\n",
    "    tools = [tool],\n",
    "    generation_config=GenerationConfig(temperature=0),\n",
    "    system_instruction = system_instruction\n",
    ")"
   ]
  },
  {
   "cell_type": "code",
   "execution_count": 18,
   "id": "c997c8af-21b0-4fd0-b4b2-6001d7e8b9a9",
   "metadata": {
    "tags": []
   },
   "outputs": [],
   "source": [
    "chat = model.start_chat()"
   ]
  },
  {
   "cell_type": "code",
   "execution_count": 19,
   "id": "0718aebd-e47e-48cd-903f-bb1e01833978",
   "metadata": {
    "tags": []
   },
   "outputs": [
    {
     "name": "stdout",
     "output_type": "stream",
     "text": [
      "Why don't scientists trust atoms?\n",
      "\n",
      "Because they make up everything! \n",
      "\n"
     ]
    }
   ],
   "source": [
    "response = chat.send_message(\"Tell me a joke.\")\n",
    "handle_response(response)"
   ]
  },
  {
   "cell_type": "code",
   "execution_count": 21,
   "id": "a680c3c7-9ca3-4758-a586-980ab83d2f18",
   "metadata": {
    "tags": []
   },
   "outputs": [
    {
     "name": "stdout",
     "output_type": "stream",
     "text": [
      "name: \"reverse\"\n",
      "args {\n",
      "  fields {\n",
      "    key: \"string\"\n",
      "    value {\n",
      "      string_value: \"Hello world\"\n",
      "    }\n",
      "  }\n",
      "}\n",
      "\n",
      "Hello world\n",
      "Calling reverse function\n",
      "Hello world\n",
      "dlrow olleH\n",
      "\n"
     ]
    }
   ],
   "source": [
    "response = chat.send_message(\"Reverse the following string: Hello world\")\n",
    "handle_response(response)"
   ]
  },
  {
   "cell_type": "code",
   "execution_count": 20,
   "id": "a9180afe-7d5d-45cc-8c98-3e6c1e315a78",
   "metadata": {
    "tags": []
   },
   "outputs": [
    {
     "name": "stdout",
     "output_type": "stream",
     "text": [
      "name: \"remove_white_spaces\"\n",
      "args {\n",
      "  fields {\n",
      "    key: \"string\"\n",
      "    value {\n",
      "      string_value: \"Hello world\"\n",
      "    }\n",
      "  }\n",
      "}\n",
      "\n",
      "Calling remove_white_spaces function\n",
      "Helloworld\n"
     ]
    }
   ],
   "source": [
    "response = chat.send_message(\"remove white spaces in the following string: Hello world\")\n",
    "handle_response(response)"
   ]
  },
  {
   "cell_type": "code",
   "execution_count": 24,
   "id": "118b2129-2814-41a8-8212-be77d2217ddb",
   "metadata": {
    "tags": []
   },
   "outputs": [
    {
     "name": "stdout",
     "output_type": "stream",
     "text": [
      "name: \"remove_white_spaces\"\n",
      "args {\n",
      "  fields {\n",
      "    key: \"string\"\n",
      "    value {\n",
      "      string_value: \"hello @ world. com\"\n",
      "    }\n",
      "  }\n",
      "}\n",
      "\n",
      "Calling remove_white_spaces function\n",
      "hello@world.com \n",
      "\n"
     ]
    }
   ],
   "source": [
    "response = chat.send_message(\"Remove the white spaces from the following word: hello @ world. com\")\n",
    "handle_response(response)"
   ]
  },
  {
   "cell_type": "code",
   "execution_count": 22,
   "id": "55bc5812-3c95-4bc8-8255-1b86d1c812f4",
   "metadata": {
    "tags": []
   },
   "outputs": [
    {
     "name": "stdout",
     "output_type": "stream",
     "text": [
      "name: \"reverse\"\n",
      "args {\n",
      "  fields {\n",
      "    key: \"string\"\n",
      "    value {\n",
      "      string_value: \"I do not understand the new sentence.\"\n",
      "    }\n",
      "  }\n",
      "}\n",
      "\n",
      "I do not understand the new sentence.\n",
      "Calling reverse function\n",
      "I do not understand the new sentence.\n",
      "name: \"remove_white_spaces\"\n",
      "args {\n",
      "  fields {\n",
      "    key: \"string\"\n",
      "    value {\n",
      "      string_value: \".ecnetnes wen eht dnatsrednu ton od I\"\n",
      "    }\n",
      "  }\n",
      "}\n",
      "\n",
      "Calling remove_white_spaces function\n",
      ".ecnetneswenehtdnatsrednutonodI\n",
      "\n"
     ]
    }
   ],
   "source": [
    "response = chat.send_message(\"Reverse the following string and remove spaces: I do not understand the new sentence.\")\n",
    "handle_response(response)   "
   ]
  },
  {
   "cell_type": "code",
   "execution_count": 23,
   "id": "c9a9cd42-1ae2-421b-ad3d-77a587b49e22",
   "metadata": {
    "tags": []
   },
   "outputs": [
    {
     "name": "stdout",
     "output_type": "stream",
     "text": [
      "The population of the earth is about 8 billion people. \n",
      "\n",
      "\n",
      "name: \"remove_white_spaces\"\n",
      "args {\n",
      "  fields {\n",
      "    key: \"string\"\n",
      "    value {\n",
      "      string_value: \"The population of the earth is about 8 billion people.\"\n",
      "    }\n",
      "  }\n",
      "}\n",
      "\n",
      "Calling remove_white_spaces function\n",
      "name: \"reverse\"\n",
      "args {\n",
      "  fields {\n",
      "    key: \"string\"\n",
      "    value {\n",
      "      string_value: \"Thepopulationoftheearthisabout8billionpeople.\"\n",
      "    }\n",
      "  }\n",
      "}\n",
      "\n",
      "Thepopulationoftheearthisabout8billionpeople.\n",
      "Calling reverse function\n",
      "Thepopulationoftheearthisabout8billionpeople.\n",
      ".elpoepnoillib8tuobasihtraeehtfonoitalupopehT \n",
      "\n"
     ]
    }
   ],
   "source": [
    "response = chat.send_message(\"Tell me a fact. Then remove the spaces in the fact text and then reverse the fact text.\")\n",
    "print(response.candidates[0].content.parts[0].text)\n",
    "handle_response(response)  "
   ]
  },
  {
   "cell_type": "code",
   "execution_count": null,
   "id": "0a7095f2-c2bb-4ef3-87c3-1ed1e66737ec",
   "metadata": {},
   "outputs": [],
   "source": []
  }
 ],
 "metadata": {
  "environment": {
   "kernel": "conda-base-py",
   "name": "workbench-notebooks.m125",
   "type": "gcloud",
   "uri": "us-docker.pkg.dev/deeplearning-platform-release/gcr.io/workbench-notebooks:m125"
  },
  "kernelspec": {
   "display_name": "Python 3 (ipykernel) (Local)",
   "language": "python",
   "name": "conda-base-py"
  },
  "language_info": {
   "codemirror_mode": {
    "name": "ipython",
    "version": 3
   },
   "file_extension": ".py",
   "mimetype": "text/x-python",
   "name": "python",
   "nbconvert_exporter": "python",
   "pygments_lexer": "ipython3",
   "version": "3.10.15"
  }
 },
 "nbformat": 4,
 "nbformat_minor": 5
}
